{
 "cells": [
  {
   "cell_type": "code",
   "execution_count": 1,
   "id": "5d414418",
   "metadata": {},
   "outputs": [],
   "source": [
    "# import libraries \n",
    "\n",
    "import sqlite3\n",
    "import pandas as pd\n",
    "import numpy as np"
   ]
  },
  {
   "cell_type": "code",
   "execution_count": 2,
   "id": "7b4b7356",
   "metadata": {},
   "outputs": [],
   "source": [
    "# make connection and create engine\n",
    "\n",
    "engine = sqlite3.connect('Sales.db')\n",
    "con = engine.cursor()"
   ]
  },
  {
   "cell_type": "markdown",
   "id": "e1dd358c",
   "metadata": {},
   "source": [
    "## 1. Accounts"
   ]
  },
  {
   "cell_type": "code",
   "execution_count": 3,
   "id": "3fe2da82",
   "metadata": {},
   "outputs": [],
   "source": [
    "# Create new table\n",
    "\n"
   ]
  },
  {
   "cell_type": "code",
   "execution_count": 4,
   "id": "7fa397e0",
   "metadata": {},
   "outputs": [],
   "source": [
    "# read csv file\n",
    "\n"
   ]
  },
  {
   "cell_type": "code",
   "execution_count": 5,
   "id": "65592df1",
   "metadata": {},
   "outputs": [],
   "source": [
    "# import data from CSV \n",
    "\n"
   ]
  },
  {
   "cell_type": "code",
   "execution_count": 6,
   "id": "a7b80a34",
   "metadata": {},
   "outputs": [],
   "source": [
    "# check data on database\n",
    "\n"
   ]
  },
  {
   "cell_type": "markdown",
   "id": "1d9b659a",
   "metadata": {},
   "source": [
    "## 2. Employees\t"
   ]
  },
  {
   "cell_type": "code",
   "execution_count": 3,
   "id": "01e645fe",
   "metadata": {},
   "outputs": [],
   "source": [
    "# Create new table\n",
    "\n"
   ]
  },
  {
   "cell_type": "code",
   "execution_count": 4,
   "id": "5b0f179c",
   "metadata": {},
   "outputs": [],
   "source": [
    "# read csv file\n",
    "\n"
   ]
  },
  {
   "cell_type": "code",
   "execution_count": 5,
   "id": "b50577ed",
   "metadata": {},
   "outputs": [],
   "source": [
    "# import data from CSV \n",
    "\n"
   ]
  },
  {
   "cell_type": "code",
   "execution_count": 6,
   "id": "21fddee9",
   "metadata": {},
   "outputs": [],
   "source": [
    "# check data on database\n",
    "\n"
   ]
  },
  {
   "cell_type": "markdown",
   "id": "ad1726e9",
   "metadata": {},
   "source": [
    "## 3. Governorate\t"
   ]
  },
  {
   "cell_type": "code",
   "execution_count": 3,
   "id": "3fe2da82",
   "metadata": {},
   "outputs": [],
   "source": [
    "# Create new table\n",
    "\n"
   ]
  },
  {
   "cell_type": "code",
   "execution_count": 4,
   "id": "7fa397e0",
   "metadata": {},
   "outputs": [],
   "source": [
    "# read csv file\n",
    "\n"
   ]
  },
  {
   "cell_type": "code",
   "execution_count": 5,
   "id": "65592df1",
   "metadata": {},
   "outputs": [],
   "source": [
    "# import data from CSV \n",
    "\n"
   ]
  },
  {
   "cell_type": "code",
   "execution_count": 6,
   "id": "a7b80a34",
   "metadata": {},
   "outputs": [],
   "source": [
    "# check data on database\n",
    "\n"
   ]
  },
  {
   "cell_type": "markdown",
   "id": "39f0d3f0",
   "metadata": {},
   "source": [
    "## 4. City\t"
   ]
  },
  {
   "cell_type": "code",
   "execution_count": 3,
   "id": "3fe2da82",
   "metadata": {},
   "outputs": [],
   "source": [
    "# Create new table\n",
    "\n"
   ]
  },
  {
   "cell_type": "code",
   "execution_count": 4,
   "id": "7fa397e0",
   "metadata": {},
   "outputs": [],
   "source": [
    "# read csv file\n",
    "\n"
   ]
  },
  {
   "cell_type": "code",
   "execution_count": 5,
   "id": "65592df1",
   "metadata": {},
   "outputs": [],
   "source": [
    "# import data from CSV \n",
    "\n"
   ]
  },
  {
   "cell_type": "code",
   "execution_count": 6,
   "id": "a7b80a34",
   "metadata": {},
   "outputs": [],
   "source": [
    "# check data on database\n",
    "\n"
   ]
  },
  {
   "cell_type": "markdown",
   "id": "78861e3c",
   "metadata": {},
   "source": [
    "## 5. Region\t"
   ]
  },
  {
   "cell_type": "code",
   "execution_count": 3,
   "id": "3fe2da82",
   "metadata": {},
   "outputs": [],
   "source": [
    "# Create new table\n",
    "\n"
   ]
  },
  {
   "cell_type": "code",
   "execution_count": 4,
   "id": "7fa397e0",
   "metadata": {},
   "outputs": [],
   "source": [
    "# read csv file\n",
    "\n"
   ]
  },
  {
   "cell_type": "code",
   "execution_count": 5,
   "id": "65592df1",
   "metadata": {},
   "outputs": [],
   "source": [
    "# import data from CSV \n",
    "\n"
   ]
  },
  {
   "cell_type": "code",
   "execution_count": 6,
   "id": "a7b80a34",
   "metadata": {},
   "outputs": [],
   "source": [
    "# check data on database\n",
    "\n"
   ]
  },
  {
   "cell_type": "markdown",
   "id": "397684c8",
   "metadata": {},
   "source": [
    "## 6. Products\t"
   ]
  },
  {
   "cell_type": "code",
   "execution_count": 3,
   "id": "3fe2da82",
   "metadata": {},
   "outputs": [],
   "source": [
    "# Create new table\n",
    "\n"
   ]
  },
  {
   "cell_type": "code",
   "execution_count": 4,
   "id": "7fa397e0",
   "metadata": {},
   "outputs": [],
   "source": [
    "# read csv file\n",
    "\n"
   ]
  },
  {
   "cell_type": "code",
   "execution_count": 5,
   "id": "65592df1",
   "metadata": {},
   "outputs": [],
   "source": [
    "# import data from CSV \n",
    "\n"
   ]
  },
  {
   "cell_type": "code",
   "execution_count": 6,
   "id": "a7b80a34",
   "metadata": {},
   "outputs": [],
   "source": [
    "# check data on database\n",
    "\n"
   ]
  },
  {
   "cell_type": "markdown",
   "id": "e5747b07",
   "metadata": {},
   "source": [
    "## 7. Properties\t"
   ]
  },
  {
   "cell_type": "code",
   "execution_count": 3,
   "id": "3fe2da82",
   "metadata": {},
   "outputs": [],
   "source": [
    "# Create new table\n",
    "\n"
   ]
  },
  {
   "cell_type": "code",
   "execution_count": 4,
   "id": "7fa397e0",
   "metadata": {},
   "outputs": [],
   "source": [
    "# read csv file\n",
    "\n"
   ]
  },
  {
   "cell_type": "code",
   "execution_count": 5,
   "id": "65592df1",
   "metadata": {},
   "outputs": [],
   "source": [
    "# import data from CSV \n",
    "\n"
   ]
  },
  {
   "cell_type": "code",
   "execution_count": 6,
   "id": "a7b80a34",
   "metadata": {},
   "outputs": [],
   "source": [
    "# check data on database\n",
    "\n"
   ]
  },
  {
   "cell_type": "markdown",
   "id": "0f4473e6",
   "metadata": {},
   "source": [
    "## 8. Groups\t"
   ]
  },
  {
   "cell_type": "code",
   "execution_count": 3,
   "id": "3fe2da82",
   "metadata": {},
   "outputs": [],
   "source": [
    "# Create new table\n",
    "\n"
   ]
  },
  {
   "cell_type": "code",
   "execution_count": 4,
   "id": "7fa397e0",
   "metadata": {},
   "outputs": [],
   "source": [
    "# read csv file\n",
    "\n"
   ]
  },
  {
   "cell_type": "code",
   "execution_count": 5,
   "id": "65592df1",
   "metadata": {},
   "outputs": [],
   "source": [
    "# import data from CSV \n",
    "\n"
   ]
  },
  {
   "cell_type": "code",
   "execution_count": 6,
   "id": "a7b80a34",
   "metadata": {},
   "outputs": [],
   "source": [
    "# check data on database\n",
    "\n"
   ]
  },
  {
   "cell_type": "markdown",
   "id": "ab1aef0a",
   "metadata": {},
   "source": [
    "## 9. Models\t"
   ]
  },
  {
   "cell_type": "code",
   "execution_count": 3,
   "id": "3fe2da82",
   "metadata": {},
   "outputs": [],
   "source": [
    "# Create new table\n",
    "\n"
   ]
  },
  {
   "cell_type": "code",
   "execution_count": 4,
   "id": "7fa397e0",
   "metadata": {},
   "outputs": [],
   "source": [
    "# read csv file\n",
    "\n"
   ]
  },
  {
   "cell_type": "code",
   "execution_count": 5,
   "id": "65592df1",
   "metadata": {},
   "outputs": [],
   "source": [
    "# import data from CSV \n",
    "\n"
   ]
  },
  {
   "cell_type": "code",
   "execution_count": 6,
   "id": "a7b80a34",
   "metadata": {},
   "outputs": [],
   "source": [
    "# check data on database\n",
    "\n"
   ]
  },
  {
   "cell_type": "markdown",
   "id": "ed157710",
   "metadata": {},
   "source": [
    "## 10. Invoices_h\t"
   ]
  },
  {
   "cell_type": "code",
   "execution_count": 3,
   "id": "3fe2da82",
   "metadata": {},
   "outputs": [],
   "source": [
    "# Create new table\n",
    "\n"
   ]
  },
  {
   "cell_type": "code",
   "execution_count": 4,
   "id": "7fa397e0",
   "metadata": {},
   "outputs": [],
   "source": [
    "# read csv file\n",
    "\n"
   ]
  },
  {
   "cell_type": "code",
   "execution_count": 5,
   "id": "65592df1",
   "metadata": {},
   "outputs": [],
   "source": [
    "# import data from CSV \n",
    "\n"
   ]
  },
  {
   "cell_type": "code",
   "execution_count": 6,
   "id": "a7b80a34",
   "metadata": {},
   "outputs": [],
   "source": [
    "# check data on database\n",
    "\n"
   ]
  },
  {
   "cell_type": "markdown",
   "id": "7027763c",
   "metadata": {},
   "source": [
    "## 11. Invoices_d\t"
   ]
  },
  {
   "cell_type": "code",
   "execution_count": 3,
   "id": "3fe2da82",
   "metadata": {},
   "outputs": [],
   "source": [
    "# Create new table\n",
    "\n"
   ]
  },
  {
   "cell_type": "code",
   "execution_count": 4,
   "id": "7fa397e0",
   "metadata": {},
   "outputs": [],
   "source": [
    "# read csv file\n",
    "\n"
   ]
  },
  {
   "cell_type": "code",
   "execution_count": 5,
   "id": "65592df1",
   "metadata": {},
   "outputs": [],
   "source": [
    "# import data from CSV \n",
    "\n"
   ]
  },
  {
   "cell_type": "code",
   "execution_count": 6,
   "id": "a7b80a34",
   "metadata": {},
   "outputs": [],
   "source": [
    "# check data on database\n",
    "\n"
   ]
  },
  {
   "cell_type": "markdown",
   "id": "6d90bada",
   "metadata": {},
   "source": [
    "## 12. Invoices_r_h\t"
   ]
  },
  {
   "cell_type": "code",
   "execution_count": 3,
   "id": "3fe2da82",
   "metadata": {},
   "outputs": [],
   "source": [
    "# Create new table\n",
    "\n"
   ]
  },
  {
   "cell_type": "code",
   "execution_count": 4,
   "id": "7fa397e0",
   "metadata": {},
   "outputs": [],
   "source": [
    "# read csv file\n",
    "\n"
   ]
  },
  {
   "cell_type": "code",
   "execution_count": 5,
   "id": "65592df1",
   "metadata": {},
   "outputs": [],
   "source": [
    "# import data from CSV \n",
    "\n"
   ]
  },
  {
   "cell_type": "code",
   "execution_count": 6,
   "id": "a7b80a34",
   "metadata": {},
   "outputs": [],
   "source": [
    "# check data on database\n",
    "\n"
   ]
  },
  {
   "cell_type": "markdown",
   "id": "4c28ac78",
   "metadata": {},
   "source": [
    "## 13. Invoices_r_d\t"
   ]
  },
  {
   "cell_type": "code",
   "execution_count": 3,
   "id": "3fe2da82",
   "metadata": {},
   "outputs": [],
   "source": [
    "# Create new table\n",
    "\n"
   ]
  },
  {
   "cell_type": "code",
   "execution_count": 4,
   "id": "7fa397e0",
   "metadata": {},
   "outputs": [],
   "source": [
    "# read csv file\n",
    "\n"
   ]
  },
  {
   "cell_type": "code",
   "execution_count": 5,
   "id": "65592df1",
   "metadata": {},
   "outputs": [],
   "source": [
    "# import data from CSV \n",
    "\n"
   ]
  },
  {
   "cell_type": "code",
   "execution_count": 6,
   "id": "a7b80a34",
   "metadata": {},
   "outputs": [],
   "source": [
    "# check data on database\n",
    "\n"
   ]
  },
  {
   "cell_type": "markdown",
   "id": "3364fc6e",
   "metadata": {},
   "source": [
    "## 14. Order_h\t"
   ]
  },
  {
   "cell_type": "code",
   "execution_count": 3,
   "id": "3fe2da82",
   "metadata": {},
   "outputs": [],
   "source": [
    "# Create new table\n",
    "\n"
   ]
  },
  {
   "cell_type": "code",
   "execution_count": 4,
   "id": "7fa397e0",
   "metadata": {},
   "outputs": [],
   "source": [
    "# read csv file\n",
    "\n"
   ]
  },
  {
   "cell_type": "code",
   "execution_count": 5,
   "id": "65592df1",
   "metadata": {},
   "outputs": [],
   "source": [
    "# import data from CSV \n",
    "\n"
   ]
  },
  {
   "cell_type": "code",
   "execution_count": 6,
   "id": "a7b80a34",
   "metadata": {},
   "outputs": [],
   "source": [
    "# check data on database\n",
    "\n"
   ]
  },
  {
   "cell_type": "markdown",
   "id": "f5d71940",
   "metadata": {},
   "source": [
    "## 15. Order_d\t"
   ]
  },
  {
   "cell_type": "code",
   "execution_count": 3,
   "id": "3fe2da82",
   "metadata": {},
   "outputs": [],
   "source": [
    "# Create new table\n",
    "\n"
   ]
  },
  {
   "cell_type": "code",
   "execution_count": 4,
   "id": "7fa397e0",
   "metadata": {},
   "outputs": [],
   "source": [
    "# read csv file\n",
    "\n"
   ]
  },
  {
   "cell_type": "code",
   "execution_count": 5,
   "id": "65592df1",
   "metadata": {},
   "outputs": [],
   "source": [
    "# import data from CSV \n",
    "\n"
   ]
  },
  {
   "cell_type": "code",
   "execution_count": 6,
   "id": "a7b80a34",
   "metadata": {},
   "outputs": [],
   "source": [
    "# check data on database\n",
    "\n"
   ]
  },
  {
   "cell_type": "markdown",
   "id": "3e32d16b",
   "metadata": {},
   "source": [
    "## 16. Order_r_h\t"
   ]
  },
  {
   "cell_type": "code",
   "execution_count": 3,
   "id": "3fe2da82",
   "metadata": {},
   "outputs": [],
   "source": [
    "# Create new table\n",
    "\n"
   ]
  },
  {
   "cell_type": "code",
   "execution_count": 4,
   "id": "7fa397e0",
   "metadata": {},
   "outputs": [],
   "source": [
    "# read csv file\n",
    "\n"
   ]
  },
  {
   "cell_type": "code",
   "execution_count": 5,
   "id": "65592df1",
   "metadata": {},
   "outputs": [],
   "source": [
    "# import data from CSV \n",
    "\n"
   ]
  },
  {
   "cell_type": "code",
   "execution_count": 6,
   "id": "a7b80a34",
   "metadata": {},
   "outputs": [],
   "source": [
    "# check data on database\n",
    "\n"
   ]
  },
  {
   "cell_type": "markdown",
   "id": "3a145b80",
   "metadata": {},
   "source": [
    "## 17. Order_r_d\t"
   ]
  },
  {
   "cell_type": "code",
   "execution_count": 3,
   "id": "3fe2da82",
   "metadata": {},
   "outputs": [],
   "source": [
    "# Create new table\n",
    "\n"
   ]
  },
  {
   "cell_type": "code",
   "execution_count": 4,
   "id": "7fa397e0",
   "metadata": {},
   "outputs": [],
   "source": [
    "# read csv file\n",
    "\n"
   ]
  },
  {
   "cell_type": "code",
   "execution_count": 5,
   "id": "65592df1",
   "metadata": {},
   "outputs": [],
   "source": [
    "# import data from CSV \n",
    "\n"
   ]
  },
  {
   "cell_type": "code",
   "execution_count": 6,
   "id": "a7b80a34",
   "metadata": {},
   "outputs": [],
   "source": [
    "# check data on database\n",
    "\n"
   ]
  }
 ],
 "metadata": {
  "kernelspec": {
   "display_name": "Python 3 (ipykernel)",
   "language": "python",
   "name": "python3"
  },
  "language_info": {
   "codemirror_mode": {
    "name": "ipython",
    "version": 3
   },
   "file_extension": ".py",
   "mimetype": "text/x-python",
   "name": "python",
   "nbconvert_exporter": "python",
   "pygments_lexer": "ipython3",
   "version": "3.9.7"
  }
 },
 "nbformat": 4,
 "nbformat_minor": 5
}
