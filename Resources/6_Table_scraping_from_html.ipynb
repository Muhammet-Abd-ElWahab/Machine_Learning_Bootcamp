{
 "cells": [
  {
   "cell_type": "markdown",
   "metadata": {},
   "source": [
    "# Find tables on HTML\n"
   ]
  },
  {
   "cell_type": "code",
   "execution_count": 2,
   "metadata": {},
   "outputs": [],
   "source": [
    "import pandas as pd \n",
    "import numpy as np \n",
    "import matplotlib.pyplot as plt\n",
    "%matplotlib inline\n",
    "import seaborn as sns\n",
    "import datetime as dt \n",
    "import statsmodels.formula.api as smf\n",
    "from bs4 import BeautifulSoup\n",
    "import requests"
   ]
  },
  {
   "cell_type": "markdown",
   "metadata": {},
   "source": [
    "## Method 1"
   ]
  },
  {
   "cell_type": "code",
   "execution_count": null,
   "metadata": {},
   "outputs": [],
   "source": [
    "url = \"https://pt.wikipedia.org/wiki/Lista_de_bairros_de_Manaus\"\n",
    "r = requests.get(url)\n",
    "data = r.text\n",
    "soup = BeautifulSoup(data, \"lxml\")"
   ]
  },
  {
   "cell_type": "code",
   "execution_count": null,
   "metadata": {},
   "outputs": [
    {
     "name": "stdout",
     "output_type": "stream",
     "text": [
      "Classes of each table:\n",
      "['box-Desatualizado', 'plainlinks', 'metadata', 'ambox', 'ambox-content']\n",
      "['wikitable', 'sortable']\n",
      "['nowraplinks', 'collapsible', 'collapsed', 'navbox-inner']\n"
     ]
    }
   ],
   "source": [
    "# Verifying tables and their classes\n",
    "\n",
    "print('Classes of each table:')\n",
    "for table in soup.find_all('table'):\n",
    "    print(table.get('class'))"
   ]
  },
  {
   "cell_type": "code",
   "execution_count": null,
   "metadata": {},
   "outputs": [
    {
     "name": "stdout",
     "output_type": "stream",
     "text": [
      "[]\n",
      "**********************\n",
      "['1', '0.73808', '1.27244', '0.88405', '1.38098']\n",
      "**********************\n",
      "['1.35487', '1', '1.72398', '1.19778', '1.87104']\n",
      "**********************\n",
      "['0.78589', '0.58005', '1', '0.69477', '1.08530']\n",
      "**********************\n",
      "['1.13115', '0.83488', '1.43932', '1', '1.56210']\n",
      "**********************\n",
      "['0.72412', '0.53446', '0.92140', '0.64016', '1']\n",
      "**********************\n"
     ]
    }
   ],
   "source": [
    "table = soup.find(\"table\")\n",
    "# tr >> table rows\n",
    "table_rows = soup.find_all(\"tr\")\n",
    "\n",
    "# td >> table data \n",
    "\n",
    "for tr in table_rows:\n",
    "    td = tr.find_all(\"td\")\n",
    "    row = [i.text for i in td]\n",
    "    print(row)\n",
    "    print(\"**********************\")"
   ]
  },
  {
   "cell_type": "markdown",
   "metadata": {},
   "source": [
    "## Method 2"
   ]
  },
  {
   "cell_type": "code",
   "execution_count": null,
   "metadata": {},
   "outputs": [
    {
     "data": {
      "text/plain": [
       "1"
      ]
     },
     "metadata": {},
     "output_type": "display_data"
    }
   ],
   "source": [
    "\n",
    "dfs = pd.read_html(url )\n",
    "len(dfs)"
   ]
  },
  {
   "cell_type": "code",
   "execution_count": null,
   "metadata": {},
   "outputs": [
    {
     "data": {
      "text/html": [
       "<div>\n",
       "<style scoped>\n",
       "    .dataframe tbody tr th:only-of-type {\n",
       "        vertical-align: middle;\n",
       "    }\n",
       "\n",
       "    .dataframe tbody tr th {\n",
       "        vertical-align: top;\n",
       "    }\n",
       "\n",
       "    .dataframe thead th {\n",
       "        text-align: right;\n",
       "    }\n",
       "</style>\n",
       "<table border=\"1\" class=\"dataframe\">\n",
       "  <thead>\n",
       "    <tr style=\"text-align: right;\">\n",
       "      <th></th>\n",
       "      <th>USD</th>\n",
       "      <th>GBP</th>\n",
       "      <th>CAD</th>\n",
       "      <th>EUR</th>\n",
       "      <th>AUD</th>\n",
       "    </tr>\n",
       "  </thead>\n",
       "  <tbody>\n",
       "    <tr>\n",
       "      <th>0</th>\n",
       "      <td>1.00000</td>\n",
       "      <td>0.73813</td>\n",
       "      <td>1.27264</td>\n",
       "      <td>0.88410</td>\n",
       "      <td>1.38116</td>\n",
       "    </tr>\n",
       "    <tr>\n",
       "      <th>1</th>\n",
       "      <td>1.35478</td>\n",
       "      <td>1.00000</td>\n",
       "      <td>1.72414</td>\n",
       "      <td>1.19776</td>\n",
       "      <td>1.87117</td>\n",
       "    </tr>\n",
       "    <tr>\n",
       "      <th>2</th>\n",
       "      <td>0.78577</td>\n",
       "      <td>0.58000</td>\n",
       "      <td>1.00000</td>\n",
       "      <td>0.69470</td>\n",
       "      <td>1.08528</td>\n",
       "    </tr>\n",
       "    <tr>\n",
       "      <th>3</th>\n",
       "      <td>1.13109</td>\n",
       "      <td>0.83489</td>\n",
       "      <td>1.43947</td>\n",
       "      <td>1.00000</td>\n",
       "      <td>1.56223</td>\n",
       "    </tr>\n",
       "    <tr>\n",
       "      <th>4</th>\n",
       "      <td>0.72403</td>\n",
       "      <td>0.53443</td>\n",
       "      <td>0.92142</td>\n",
       "      <td>0.64011</td>\n",
       "      <td>1.00000</td>\n",
       "    </tr>\n",
       "  </tbody>\n",
       "</table>\n",
       "</div>"
      ],
      "text/plain": [
       "       USD      GBP      CAD      EUR      AUD\n",
       "0  1.00000  0.73813  1.27264  0.88410  1.38116\n",
       "1  1.35478  1.00000  1.72414  1.19776  1.87117\n",
       "2  0.78577  0.58000  1.00000  0.69470  1.08528\n",
       "3  1.13109  0.83489  1.43947  1.00000  1.56223\n",
       "4  0.72403  0.53443  0.92142  0.64011  1.00000"
      ]
     },
     "metadata": {},
     "output_type": "display_data"
    }
   ],
   "source": [
    "print(df[0])"
   ]
  },
  {
   "cell_type": "code",
   "execution_count": null,
   "metadata": {},
   "outputs": [
    {
     "name": "stdout",
     "output_type": "stream",
     "text": [
      "[]\n",
      "**********************\n",
      "['Argentinean Peso', '107.1950', '+0.1150', '+0.107%', '88.96Today|||107.19']\n",
      "**********************\n",
      "['Brazilian Real', '5.0588', '-0.0451', '-0.884%', '4.89Today|||5.88']\n",
      "**********************\n",
      "['Canadian Dollar', '1.2770', '+0.0018', '+0.145%', '1.20Today|||1.30']\n",
      "**********************\n",
      "['Chilean Peso', '792.7150', '-5.8250', '-0.729%', '689.95Today|||875.40']\n",
      "**********************\n",
      "['Dominican Peso', '55.9200', '-0.7000', '-1.236%', '55.92Today|||58.00']\n",
      "**********************\n",
      "['Mexican Peso', '20.3050', '-0.0045', '-0.022%', '19.59Today|||22.15']\n",
      "**********************\n",
      "[]\n",
      "**********************\n",
      "['\\xa0', 'NIKKEI 225 INDEX\\xa0\\xa0Japan', '-1.71%', '26,449.61']\n",
      "**********************\n",
      "['\\xa0', 'HANG SENG INDEX\\xa0\\xa0China', '+0.62%', '23,665.25']\n",
      "**********************\n",
      "['\\xa0', 'FTSE 100 IDX\\xa0\\xa0England', '+0.05%', '7,498.18']\n",
      "**********************\n",
      "['\\xa0', 'CAC 40 INDEX\\xa0\\xa0France', '-0.10%', '6,780.67']\n",
      "**********************\n",
      "['\\xa0', 'DEUTSCHE BORSE DAX INDEX\\xa0\\xa0Germany', '-0.42%', '14,631.36']\n",
      "**********************\n"
     ]
    }
   ],
   "source": []
  },
  {
   "cell_type": "code",
   "execution_count": null,
   "metadata": {},
   "outputs": [
    {
     "data": {
      "text/plain": [
       "2"
      ]
     },
     "metadata": {},
     "output_type": "display_data"
    }
   ],
   "source": [
    "url = \"https://money.cnn.com/data/currencies/\"\n",
    "dfs = pd.read_html(url )\n",
    "len(dfs)"
   ]
  },
  {
   "cell_type": "code",
   "execution_count": null,
   "metadata": {},
   "outputs": [
    {
     "data": {
      "text/html": [
       "<div>\n",
       "<style scoped>\n",
       "    .dataframe tbody tr th:only-of-type {\n",
       "        vertical-align: middle;\n",
       "    }\n",
       "\n",
       "    .dataframe tbody tr th {\n",
       "        vertical-align: top;\n",
       "    }\n",
       "\n",
       "    .dataframe thead th {\n",
       "        text-align: right;\n",
       "    }\n",
       "</style>\n",
       "<table border=\"1\" class=\"dataframe\">\n",
       "  <thead>\n",
       "    <tr style=\"text-align: right;\">\n",
       "      <th></th>\n",
       "      <th>Currencies</th>\n",
       "      <th>$1=</th>\n",
       "      <th>Change inU.S. dollars</th>\n",
       "      <th>% Change</th>\n",
       "      <th>52-week range</th>\n",
       "    </tr>\n",
       "  </thead>\n",
       "  <tbody>\n",
       "    <tr>\n",
       "      <th>0</th>\n",
       "      <td>Argentinean Peso</td>\n",
       "      <td>107.1950</td>\n",
       "      <td>0.1150</td>\n",
       "      <td>+0.107%</td>\n",
       "      <td>88.96Today|||107.19</td>\n",
       "    </tr>\n",
       "    <tr>\n",
       "      <th>1</th>\n",
       "      <td>Brazilian Real</td>\n",
       "      <td>5.0588</td>\n",
       "      <td>-0.0451</td>\n",
       "      <td>-0.884%</td>\n",
       "      <td>4.89Today|||5.88</td>\n",
       "    </tr>\n",
       "    <tr>\n",
       "      <th>2</th>\n",
       "      <td>Canadian Dollar</td>\n",
       "      <td>1.2770</td>\n",
       "      <td>0.0018</td>\n",
       "      <td>+0.145%</td>\n",
       "      <td>1.20Today|||1.30</td>\n",
       "    </tr>\n",
       "    <tr>\n",
       "      <th>3</th>\n",
       "      <td>Chilean Peso</td>\n",
       "      <td>792.7150</td>\n",
       "      <td>-5.8250</td>\n",
       "      <td>-0.729%</td>\n",
       "      <td>689.95Today|||875.40</td>\n",
       "    </tr>\n",
       "    <tr>\n",
       "      <th>4</th>\n",
       "      <td>Dominican Peso</td>\n",
       "      <td>55.9200</td>\n",
       "      <td>-0.7000</td>\n",
       "      <td>-1.236%</td>\n",
       "      <td>55.92Today|||58.00</td>\n",
       "    </tr>\n",
       "    <tr>\n",
       "      <th>5</th>\n",
       "      <td>Mexican Peso</td>\n",
       "      <td>20.3050</td>\n",
       "      <td>-0.0045</td>\n",
       "      <td>-0.022%</td>\n",
       "      <td>19.59Today|||22.15</td>\n",
       "    </tr>\n",
       "  </tbody>\n",
       "</table>\n",
       "</div>"
      ],
      "text/plain": [
       "         Currencies       $1=  Change inU.S. dollars % Change  \\\n",
       "0  Argentinean Peso  107.1950                 0.1150  +0.107%   \n",
       "1    Brazilian Real    5.0588                -0.0451  -0.884%   \n",
       "2   Canadian Dollar    1.2770                 0.0018  +0.145%   \n",
       "3      Chilean Peso  792.7150                -5.8250  -0.729%   \n",
       "4    Dominican Peso   55.9200                -0.7000  -1.236%   \n",
       "5      Mexican Peso   20.3050                -0.0045  -0.022%   \n",
       "\n",
       "          52-week range  \n",
       "0   88.96Today|||107.19  \n",
       "1      4.89Today|||5.88  \n",
       "2      1.20Today|||1.30  \n",
       "3  689.95Today|||875.40  \n",
       "4    55.92Today|||58.00  \n",
       "5    19.59Today|||22.15  "
      ]
     },
     "metadata": {},
     "output_type": "display_data"
    }
   ],
   "source": [
    "dfs[0]"
   ]
  },
  {
   "cell_type": "markdown",
   "metadata": {},
   "source": [
    "dfs = pd.read_html(url, match=\"spasific word on table\", flavor = bs4 or lxml )"
   ]
  },
  {
   "cell_type": "markdown",
   "metadata": {},
   "source": []
  }
 ],
 "metadata": {
  "interpreter": {
   "hash": "d9b5e939685524877cc2154a873eed28ff586977e98e3f7491e60947f11dd880"
  },
  "kernelspec": {
   "display_name": "Python 3 (ipykernel)",
   "language": "python",
   "name": "python3"
  },
  "language_info": {
   "codemirror_mode": {
    "name": "ipython",
    "version": 3
   },
   "file_extension": ".py",
   "mimetype": "text/x-python",
   "name": "python",
   "nbconvert_exporter": "python",
   "pygments_lexer": "ipython3",
   "version": "3.9.7"
  }
 },
 "nbformat": 4,
 "nbformat_minor": 2
}
