{
 "cells": [
  {
   "cell_type": "markdown",
   "metadata": {},
   "source": [
    "### importing libraries that will be used to investigate Dataset"
   ]
  },
  {
   "cell_type": "code",
   "execution_count": 1,
   "metadata": {},
   "outputs": [],
   "source": [
    "import pandas as pd \n",
    "import numpy as np\n",
    "import matplotlib.pyplot as plt\n",
    "%matplotlib inline\n",
    "import seaborn as sns\n",
    "import datetime"
   ]
  },
  {
   "cell_type": "markdown",
   "metadata": {},
   "source": [
    "### check tables informations \n",
    "\n",
    "* SELECT \n",
    "    * table_name \n",
    "* FROM \n",
    "    * information_schema.tables\n",
    "* -- Specify the correct table_schema value\n",
    "* WHERE \n",
    "    * table_schema = 'public';"
   ]
  },
  {
   "cell_type": "markdown",
   "metadata": {},
   "source": [
    "-- Query the right table in information_schema to get columns\n",
    "* SELECT \n",
    "    * column_name, data_type \n",
    "* FROM \n",
    "    * information_schema.columns \n",
    "* WHERE \n",
    "    * table_name = 'university_professors' AND table_schema = 'public';"
   ]
  },
  {
   "cell_type": "markdown",
   "metadata": {},
   "source": [
    "# creat tables"
   ]
  },
  {
   "cell_type": "markdown",
   "metadata": {},
   "source": [
    "* CREAT TABLE table_name(\n",
    "    * column_a data_type, \n",
    "    * column_b data_type, \n",
    "    * column_c data_type, \n",
    "    * column_d data_type \n",
    ");"
   ]
  },
  {
   "cell_type": "markdown",
   "metadata": {},
   "source": [
    "* CREAT TABLE weather(\n",
    "    * cloud text, \n",
    "    * tempreture numaric, \n",
    "    * weather_station char(5)\n",
    ");"
   ]
  },
  {
   "cell_type": "markdown",
   "metadata": {},
   "source": [
    "### Add new column to exsisting table"
   ]
  },
  {
   "cell_type": "markdown",
   "metadata": {},
   "source": [
    "* ALTER TABLE table_name\n",
    "* ADD COLUMN column_name data_type;"
   ]
  },
  {
   "cell_type": "markdown",
   "metadata": {},
   "source": [
    "### rename column to exsisting table"
   ]
  },
  {
   "cell_type": "markdown",
   "metadata": {},
   "source": [
    "* ALTER TABLE table_name\n",
    "* RENAME COLUMN column_name old_name TO new_name;;"
   ]
  },
  {
   "cell_type": "markdown",
   "metadata": {},
   "source": [
    "### Drop column from table"
   ]
  },
  {
   "cell_type": "markdown",
   "metadata": {},
   "source": [
    "* ALTER TABLE table_name\n",
    "* DROP COLUMN column_name;"
   ]
  },
  {
   "cell_type": "markdown",
   "metadata": {},
   "source": [
    "# Database Migrating (copy data from table to another)"
   ]
  },
  {
   "cell_type": "markdown",
   "metadata": {},
   "source": [
    "* INSERT INTO new_table_name\n",
    "* SELECT DISTINCT (column_name), \n",
    "    * another_column_name,\n",
    "* FROM \n",
    "    * old_table_name"
   ]
  },
  {
   "cell_type": "markdown",
   "metadata": {},
   "source": [
    "### insert data manually \n",
    "\n",
    "* INSERT INTO table_name\n",
    "* values(a, b, c, d, e, ....)"
   ]
  },
  {
   "cell_type": "markdown",
   "metadata": {},
   "source": [
    "# Database integrity constrians \n",
    "\n",
    "* Attribute constrains: data types on columns.\n",
    "* key constrains: primary keys \n",
    "* referential integrity constrains: enforced by foreign keys\n"
   ]
  },
  {
   "cell_type": "markdown",
   "metadata": {},
   "source": [
    "## Insert data to exsiting table"
   ]
  },
  {
   "cell_type": "markdown",
   "metadata": {},
   "source": [
    "* INSERT INTO table_name(Column_name, column2_name, column3_name)\n",
    "* VALUES (value1, value2, value3)"
   ]
  },
  {
   "cell_type": "markdown",
   "metadata": {},
   "source": [
    "## change string to integer"
   ]
  },
  {
   "cell_type": "markdown",
   "metadata": {},
   "source": [
    "* SELECT price * CAST(total AS integer)\n",
    "* FROM table_name"
   ]
  },
  {
   "cell_type": "markdown",
   "metadata": {},
   "source": [
    "## Data types on SQL\n"
   ]
  },
  {
   "cell_type": "markdown",
   "metadata": {},
   "source": [
    "* text >>>> means string \n",
    "* varchar(5) >>>> maximum number of charachters is 5\n",
    "* char(5) >>>> charachter must be 5 digits\n",
    "* boolean >>>>> 0 or 1 or null\n",
    "* data\n",
    "* time\n",
    "* timestamp\n",
    "* numeric (3, 5)>>>>> floats 3 digits before comma and 5 after it\n",
    "* integer >>>>> int\n",
    "* serial >>>>> for automatic ids\n"
   ]
  },
  {
   "cell_type": "markdown",
   "metadata": {},
   "source": [
    "## change column type "
   ]
  },
  {
   "cell_type": "markdown",
   "metadata": {},
   "source": [
    "\n"
   ]
  },
  {
   "cell_type": "markdown",
   "metadata": {},
   "source": [
    "### round numbers \n",
    "\n",
    "* ALTER TABLE table_name\n",
    "* ALTER COLUMN column_name\n",
    "* TYPE integer\n",
    "* USING round(column_name)"
   ]
  },
  {
   "cell_type": "markdown",
   "metadata": {},
   "source": [
    "# change number of charachters to lower number (we havewords with 25 but we need to make max number 16 -fiirst 16 char)"
   ]
  },
  {
   "cell_type": "markdown",
   "metadata": {},
   "source": [
    "* ALTER TABLE table_name\n",
    "* ALTER COLUMN column_name\n",
    "* TYPE VARCHAR(16)\n",
    "* USING SUBSTRING(column_name FROM 1 FOR 16);"
   ]
  },
  {
   "cell_type": "markdown",
   "metadata": {},
   "source": [
    "# Creat table with not null values (cell can not be empty)"
   ]
  },
  {
   "cell_type": "markdown",
   "metadata": {},
   "source": [
    "* CREATE TABLE table_name(\n",
    "    * coulmn_name int NOT NULL,\n",
    "    * coulmn_name char NOT NULL,\n",
    "    * coulmn_name int ,\n",
    "    * coulmn_name int \n",
    ");\n",
    "* first 2 columns can not be empty last 2 can have nulls \n",
    "\n"
   ]
  },
  {
   "cell_type": "markdown",
   "metadata": {},
   "source": [
    "## change column to not null column"
   ]
  },
  {
   "cell_type": "markdown",
   "metadata": {},
   "source": [
    "* ALTER TABLE table_name\n",
    "* ALTER COLUMN column_name\n",
    "* SET NOT NULL;"
   ]
  },
  {
   "cell_type": "markdown",
   "metadata": {},
   "source": [
    "## change column to null column"
   ]
  },
  {
   "cell_type": "markdown",
   "metadata": {},
   "source": [
    "* ALTER TABLE table_name\n",
    "* ALTER COLUMN column_name\n",
    "* DROP NOT NULL;"
   ]
  },
  {
   "cell_type": "markdown",
   "metadata": {},
   "source": [
    "## Make UNIQUE COLUMN (can not have duplicate values)"
   ]
  },
  {
   "cell_type": "markdown",
   "metadata": {},
   "source": [
    "* CREAT TABLE table_name(\n",
    "    * column_name UNIQUE\n",
    ");"
   ]
  },
  {
   "cell_type": "markdown",
   "metadata": {},
   "source": [
    "## Chanhe UNUNIQUE COLUMN to UNIQUE (can not have duplicate values)"
   ]
  },
  {
   "cell_type": "markdown",
   "metadata": {},
   "source": [
    "* ALTER TABLE table_name\n",
    "* ADD CONSTRAINT new_column_name UNIQUE(old_column_name)\n",
    ");"
   ]
  },
  {
   "cell_type": "markdown",
   "metadata": {},
   "source": [
    "# Keys and Super Keys"
   ]
  },
  {
   "cell_type": "markdown",
   "metadata": {},
   "source": [
    "### Create table with primary key"
   ]
  },
  {
   "cell_type": "markdown",
   "metadata": {},
   "source": [
    "* CREATE TABLE table_name(\n",
    "    * column_1 int PRIMARY KEY,\n",
    "    * column_2 char(5),\n",
    "    * column_3 text\n",
    ")"
   ]
  },
  {
   "cell_type": "markdown",
   "metadata": {},
   "source": [
    "### Create table with multi column primary key"
   ]
  },
  {
   "cell_type": "markdown",
   "metadata": {},
   "source": [
    "* CREATE TABLE table_name(\n",
    "    * column_1 int ,\n",
    "    * column_2 char(5),\n",
    "    * column_3 text,\n",
    "    * PRIMARY KEY (column_1, column_2)\n",
    ")"
   ]
  },
  {
   "cell_type": "markdown",
   "metadata": {},
   "source": [
    "### Set primary key to exsiting table"
   ]
  },
  {
   "cell_type": "markdown",
   "metadata": {},
   "source": [
    "* ALTER TABLE table_name(\n",
    "    * ADD CONSTRIANT name_for_primary_key PRIMARY KEY (column_name)"
   ]
  },
  {
   "cell_type": "markdown",
   "metadata": {},
   "source": [
    "### ADD Automatic ID column AS primary key"
   ]
  },
  {
   "cell_type": "markdown",
   "metadata": {},
   "source": [
    "* ALTER TABLE table_name(\n",
    "    * ADD COLUMN id serial PRIMARY KEY (column_name)"
   ]
  },
  {
   "cell_type": "markdown",
   "metadata": {},
   "source": [
    "# Make new column with combined data from other 2 columns like first and last name"
   ]
  },
  {
   "cell_type": "markdown",
   "metadata": {},
   "source": [
    "* ALTER TABLE table_name\n",
    "    * ADD COLUMN full_name text\n",
    "* UPDATE table_name\n",
    "* SET full_name = CONCAT(firstname, lastname)   \n",
    "* ALTER TABLE table_name\n",
    "* ADD CONSTRAINT pk PRIMARY KEY (full_name)"
   ]
  },
  {
   "cell_type": "markdown",
   "metadata": {},
   "source": [
    "# Create forighn keys"
   ]
  },
  {
   "cell_type": "markdown",
   "metadata": {},
   "source": [
    "* CREATE TABLE table_name(\n",
    "    *  column_1 integer PRIMARY KEY\n",
    ");\n",
    "* INSERT INTO table_name\n",
    "* VALUES(1,2,3,4,5,6,7\n",
    ");\n",
    "* CREATE TABLE table2_name(\n",
    "    *  column_2 integer REFERENCES table_name(column_1)\n",
    ");\n",
    "\n"
   ]
  },
  {
   "cell_type": "markdown",
   "metadata": {},
   "source": [
    "## Make a column as forighn key"
   ]
  },
  {
   "cell_type": "markdown",
   "metadata": {},
   "source": [
    "### ADD NEW COLUMN AS A FOREIGN KEY \n",
    "\n",
    "* ALTER TABLE table_name\n",
    "* ADD COLUMN column_name INTEGER REFERENCES table_name(column_name) "
   ]
  },
  {
   "cell_type": "markdown",
   "metadata": {},
   "source": [
    "-- Add a professor_id column\n",
    "* ALTER TABLE affiliations\n",
    "* ADD COLUMN professor_id integer REFERENCES professors (id);"
   ]
  },
  {
   "cell_type": "markdown",
   "metadata": {},
   "source": [
    "### MAKE FOREIGN KEY FROM EXSISTING COLUMN\n",
    "\n",
    "* ALTER TABLE table_name\n",
    "* ADD CONSTRAINT fk  FOREIGN KEY (column_name) REFERENCES table_name(column_name)"
   ]
  },
  {
   "cell_type": "markdown",
   "metadata": {},
   "source": [
    "-- Add a foreign key on organization_id\n",
    "* ALTER TABLE affiliations\n",
    "* ADD CONSTRAINT affiliations_organization_fkey FOREIGN KEY (organization_id) REFERENCES organizations (id);"
   ]
  },
  {
   "cell_type": "markdown",
   "metadata": {},
   "source": [
    "## ADD ACTION TO FROEIGN KEY WHEN DELETED"
   ]
  },
  {
   "cell_type": "markdown",
   "metadata": {},
   "source": [
    "* ACTIONS ON DELETE FOREIGN KEYS:\n",
    "    * CASCADE >>>> DELETE ALL REFRENCED RECORDS\n",
    "    * NO ACTION >>>>\n",
    "    * RESTRICT >>> throw an error\n",
    "    * SET DEFAULT >>>> SET REFRENCED COLUMN TO DEFULT VALUE"
   ]
  },
  {
   "cell_type": "markdown",
   "metadata": {},
   "source": [
    "* ALTER TABLE affiliations\n",
    "* ADD CONSTRAINT affiliations_organization_id_fkey FOREIGN KEY (organization_id) REFERENCES organizations (id) ON DELETE CASCADE;\n"
   ]
  },
  {
   "cell_type": "markdown",
   "metadata": {},
   "source": [
    "# CHeck table constraint "
   ]
  },
  {
   "cell_type": "markdown",
   "metadata": {},
   "source": [
    "-- Identify the correct constraint name\n",
    "* SELECT constraint_name, table_name, constraint_type\n",
    "* FROM information_schema.table_constraints\n",
    "* WHERE constraint_type = 'FOREIGN KEY';"
   ]
  },
  {
   "cell_type": "markdown",
   "metadata": {},
   "source": []
  },
  {
   "cell_type": "markdown",
   "metadata": {},
   "source": []
  },
  {
   "cell_type": "markdown",
   "metadata": {},
   "source": []
  },
  {
   "cell_type": "markdown",
   "metadata": {},
   "source": []
  },
  {
   "cell_type": "markdown",
   "metadata": {},
   "source": []
  },
  {
   "cell_type": "markdown",
   "metadata": {},
   "source": []
  },
  {
   "cell_type": "markdown",
   "metadata": {},
   "source": []
  },
  {
   "cell_type": "markdown",
   "metadata": {},
   "source": []
  },
  {
   "cell_type": "markdown",
   "metadata": {},
   "source": []
  },
  {
   "cell_type": "markdown",
   "metadata": {},
   "source": []
  },
  {
   "cell_type": "markdown",
   "metadata": {},
   "source": []
  },
  {
   "cell_type": "markdown",
   "metadata": {},
   "source": []
  },
  {
   "cell_type": "markdown",
   "metadata": {},
   "source": []
  },
  {
   "cell_type": "markdown",
   "metadata": {},
   "source": []
  }
 ],
 "metadata": {
  "interpreter": {
   "hash": "d9b5e939685524877cc2154a873eed28ff586977e98e3f7491e60947f11dd880"
  },
  "kernelspec": {
   "display_name": "Python 3.9.7 ('base')",
   "language": "python",
   "name": "python3"
  },
  "language_info": {
   "codemirror_mode": {
    "name": "ipython",
    "version": 3
   },
   "file_extension": ".py",
   "mimetype": "text/x-python",
   "name": "python",
   "nbconvert_exporter": "python",
   "pygments_lexer": "ipython3",
   "version": "3.9.7"
  },
  "orig_nbformat": 4
 },
 "nbformat": 4,
 "nbformat_minor": 2
}
